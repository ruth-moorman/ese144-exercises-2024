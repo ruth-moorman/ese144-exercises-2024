{
 "cells": [
  {
   "cell_type": "markdown",
   "id": "42b29366",
   "metadata": {},
   "source": [
    "# Time mean ocean Dynamic Topography\n",
    "\n",
    "Ruth Moorman April 25th 2024 (for Ian Fenty ESE144 lectures)\n",
    "\n",
    "\n",
    "In this notebook we'll be looking at some Level 4 processed mean dynamic topography data available from  <a href=\"https://data.marine.copernicus.eu/product/SEALEVEL_GLO_PHY_MDT_008_063/description?view=-&option=-&task=results&product_id=-\">Copernicus Marine Service</a> and constructed by CNES (French National Center for Space Studies) using data spanning 1993-2012. The \"Mean Dynamic Topography\" (MDT) is the temporal mean of the sea surface heigh (SSH) above the geoid. We'll be using this data to understand the time mean geostrophic ciculation of the Earth's oceans. \n",
    "<br><br>\n",
    "\n"
   ]
  },
  {
   "cell_type": "code",
   "execution_count": null,
   "id": "32218788",
   "metadata": {},
   "outputs": [],
   "source": [
    "import numpy as np\n",
    "import xarray as xr\n",
    "import matplotlib.pyplot as plt\n",
    "import cartopy.crs as ccrs"
   ]
  },
  {
   "cell_type": "markdown",
   "id": "987428ca",
   "metadata": {},
   "source": [
    "\n",
    "<div class=\"alert alert-block alert-info\">\n",
    "<b>XARRAY:</b>\n",
    "<div> \n",
    "<div>        \n",
    "  \n",
    "Since netCDF data structures are now incredibly widespread in rsatellite remote sensing and climate science more broadly, we'll be using the <a href=\"https://docs.xarray.dev/en/stable/\">xarray</a> python package, a suite of functions built to interface smoothly with netCDF files, for our python work in this course.\n",
    "    \n",
    "    <br><br>\n",
    "In this notebook we'll use the following xarray functions:\n",
    "   <br> \n",
    "    \n",
    "    • <a href=\"https://docs.xarray.dev/en/stable/generated/xarray.open_dataset.html\">xr.open_dataset()</a>: opens a singular netCDF file as a data structure called a Dataset (ds) containing numerous <a href=\"https://docs.xarray.dev/en/latest/user-guide/data-structures.html\">DataArrays (da)</a>\n",
    "   <br> \n",
    "    • <a href=\"https://docs.xarray.dev/en/stable/generated/xarray.DataArray.coarsen.html\">da.coarsen()</a>: coarsens data in some dimension\n",
    "<div>   \n",
    "    "
   ]
  },
  {
   "cell_type": "code",
   "execution_count": null,
   "id": "430ca83c",
   "metadata": {},
   "outputs": [],
   "source": [
    "ds = xr.open_mfdataset('~/shared/notebooks/CaltechESE1442024/data/mdt_hybrid_cnes_cls22_cmems2020_global.nc').squeeze(\"time\")\n",
    "ds"
   ]
  },
  {
   "cell_type": "markdown",
   "id": "067961c0",
   "metadata": {},
   "source": [
    "\n",
    "<div class=\"alert alert-block alert-info\">\n",
    "<b>TASK:</b>\n",
    "<div> \n",
    "<div>        \n",
    "  \n",
    "Explore the variables available in this Dataset, familiarise yourself with the data structure if this is the first time you have used xarray.   \n",
    "<div>   \n",
    "    "
   ]
  },
  {
   "cell_type": "markdown",
   "id": "204c0dfa",
   "metadata": {},
   "source": [
    "## Extract variables for plotting"
   ]
  },
  {
   "cell_type": "code",
   "execution_count": null,
   "id": "1d23e822",
   "metadata": {},
   "outputs": [],
   "source": [
    "mdt = ds[\"mdt\"] # mean dynamic topography\n",
    "u   = ds[\"u\"]   # geostrophic zonal (eastward) velocity\n",
    "v   = ds[\"v\"]   # geostrophic meridional (northward) velocity"
   ]
  },
  {
   "cell_type": "code",
   "execution_count": null,
   "id": "defc7836",
   "metadata": {},
   "outputs": [],
   "source": [
    "fig, ax = plt.subplots(1,1, figsize=(15,7),subplot_kw={'projection': ccrs.PlateCarree(central_longitude=180)})\n",
    "\n",
    "c = ax.contourf(mdt.longitude, mdt.latitude, mdt, np.arange(-1.5,1.95,0.1),transform = ccrs.PlateCarree(), cmap='nipy_spectral')\n",
    "\n",
    "w=30 \n",
    "coarse_u = u.coarsen(longitude=w,latitude=w, boundary='pad').mean()\n",
    "coarse_v = v.coarsen(longitude=w,latitude=w, boundary='pad').mean()\n",
    "\n",
    "lon, lat = np.meshgrid(coarse_u.longitude,coarse_u.latitude)\n",
    "q = ax.quiver(x=lon,y=lat , u=coarse_u.values, v=coarse_v.values, transform = ccrs.PlateCarree())\n",
    "ax.quiverkey(q, 0.1, 0.05, 0.25,'velocity (0.25 m s$^{-1}$)',labelpos='E',transform=ccrs.PlateCarree(),color='r')\n",
    "\n",
    "ax.set_xticks(np.arange(-180,190,30));ax.set_yticks(np.arange(-80,90,20))\n",
    "cax = fig.add_axes([0.07, 0.2, 0.015, 0.6])\n",
    "cbar=plt.colorbar(c,cax = cax,orientation='vertical',shrink = 0.5)\n",
    "\n",
    "ax.set_title('HYBRID_MDT_CNES_CLS22_CMEMS2020 - MDT [m] and geostrophic velocity [m/s]')\n",
    "\n",
    "plt.show()\n"
   ]
  },
  {
   "cell_type": "markdown",
   "id": "8db95811",
   "metadata": {},
   "source": [
    "\n",
    "<div class=\"alert alert-block alert-info\">\n",
    "<b>DISCUSS:</b>\n",
    "<div> \n",
    "<div>        \n",
    "  Geostrophic velocities $u$ and $v$ are defined according to\n",
    "    \n",
    "    $$u = -\\frac{1}{\\rho f}\\frac{\\partial p}{\\partial y}, \\quad \\quad v = \\frac{1}{\\rho f}\\frac{\\partial p}{\\partial x}$$\n",
    "\n",
    "<div>\n",
    "    in terms of pressure ($p$). Or (with some assumptions...) the barotropic component of the geostrophic flow can be expressed as a function of the sea surface height anomaly ($\\eta$)\n",
    "    $$u = -\\frac{g}{f}\\frac{\\partial \\eta}{\\partial y}, \\quad \\quad v = \\frac{g}{f}\\frac{\\partial \\eta}{\\partial x}.$$\n",
    "\n",
    "<div> \n",
    "\n",
    "Does this hold everywhere on Earth? If not, why/how does this product provide geostrophic $u$ and $v$ values for all latitudes and longitudes over the ocean?\n",
    "    \n",
    "\n",
    "    \n",
    "   Let's explore <a href=\"https://data.marine.copernicus.eu/product/SEALEVEL_GLO_PHY_MDT_008_063/description?view=-&option=-&task=results&product_id=-\">the data source</a> info to try and figure this out. \n",
    "<div>   \n",
    "    "
   ]
  },
  {
   "cell_type": "markdown",
   "id": "d9235811",
   "metadata": {},
   "source": [
    "## Latest daily SLA Altimetry\n",
    "\n",
    "Moving onto some recent data  <a href=\"https://data.marine.copernicus.eu/product/SEALEVEL_GLO_PHY_L4_NRT_008_046/description\">here</a>! \n"
   ]
  },
  {
   "cell_type": "code",
   "execution_count": null,
   "id": "4d2f5877",
   "metadata": {},
   "outputs": [],
   "source": [
    "ds = xr.open_mfdataset('~/shared/notebooks/CaltechESE1442024/data/nrt_global_allsat_phy_l4_20240425_20240425.nc').squeeze(\"time\")\n",
    "ds"
   ]
  },
  {
   "cell_type": "code",
   "execution_count": null,
   "id": "9e679823",
   "metadata": {},
   "outputs": [],
   "source": [
    "sla = ds[\"sla\"]\n",
    "u = ds[\"ugos\"]\n",
    "v = ds[\"vgos\"]"
   ]
  },
  {
   "cell_type": "code",
   "execution_count": null,
   "id": "6a091a92",
   "metadata": {},
   "outputs": [],
   "source": [
    "fig, ax = plt.subplots(1,1, figsize=(15,7),subplot_kw={'projection': ccrs.PlateCarree(central_longitude=180)})\n",
    "\n",
    "## colors\n",
    "c = ax.pcolormesh(sla.longitude, sla.latitude, sla, vmin=-0.5,vmax=0.5,transform = ccrs.PlateCarree(), cmap='RdBu_r')\n",
    "\n",
    "## colorbar\n",
    "ax.set_xticks(np.arange(-180,190,30));ax.set_yticks(np.arange(-80,90,20))\n",
    "cax = fig.add_axes([0.07, 0.2, 0.015, 0.6])\n",
    "cbar=plt.colorbar(c,cax = cax,orientation='vertical',shrink = 0.5)\n",
    "\n",
    "## title\n",
    "ax.set_title(' Sea Surface Height measured by Altimetry and derived variables [m]')\n",
    "plt.show()"
   ]
  },
  {
   "cell_type": "markdown",
   "id": "3ab9c8a2",
   "metadata": {},
   "source": [
    "\n",
    "<div class=\"alert alert-block alert-info\">\n",
    "<b>TASK:</b>\n",
    "<div> \n",
    "<div>        \n",
    "Plot a zoomed in version of the above focussed on the Gulf Stream and including velocity vectors.\n",
    "    <div>   \n",
    "    "
   ]
  },
  {
   "cell_type": "code",
   "execution_count": null,
   "id": "962668c0",
   "metadata": {},
   "outputs": [],
   "source": []
  }
 ],
 "metadata": {
  "kernelspec": {
   "display_name": "Python 3 (ipykernel)",
   "language": "python",
   "name": "python3"
  },
  "language_info": {
   "codemirror_mode": {
    "name": "ipython",
    "version": 3
   },
   "file_extension": ".py",
   "mimetype": "text/x-python",
   "name": "python",
   "nbconvert_exporter": "python",
   "pygments_lexer": "ipython3",
   "version": "3.8.12"
  }
 },
 "nbformat": 4,
 "nbformat_minor": 5
}
