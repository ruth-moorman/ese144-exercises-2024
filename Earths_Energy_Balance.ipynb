{
 "cells": [
  {
   "cell_type": "markdown",
   "id": "c18cc6b0",
   "metadata": {},
   "source": [
    "# Earth's Energy Balance\n",
    "\n",
    "Ruth Moorman adapted from on CSS Topic 1 (for Joao Teixeira ESE144 Lecture and Graeme Stephens ESE144 Lecture)"
   ]
  },
  {
   "cell_type": "markdown",
   "id": "ec3b3507",
   "metadata": {},
   "source": [
    "\n",
    "<div class=\"alert alert-block alert-info\">\n",
    "<b>DATA ACCESS:</b>\n",
    "<div> \n",
    "<div>        \n",
    "    \n",
    "We'll be working with the Clouds and the Earth's Radiant Energy System project EBAF-TOA Level 3b data sourced from <a href=\"https://ceres.larc.nasa.gov/data/\">here</a>. Information on the instruments used to construct this data product can be found <a href=\"https://ceres.larc.nasa.gov/instruments/\">here</a> and also note that we are working with the \"Energy Balanced and Filled\" (EBAF) product, methodology details may be found <a href=\"https://journals.ametsoc.org/view/journals/clim/31/2/jcli-d-17-0208.1.xml\">here</a>.\n",
    "<div><div>\n",
    "\n",
    "    \n",
    "\n",
    "\n"
   ]
  },
  {
   "cell_type": "code",
   "execution_count": null,
   "id": "709f92f0",
   "metadata": {},
   "outputs": [],
   "source": [
    "import numpy as np\n",
    "import xarray as xr\n",
    "# need to import some plotting tools...\n",
    "import matplotlib.pyplot as plt\n",
    "import matplotlib.patches as mpatches\n",
    "import cartopy.crs as ccrs\n",
    "import cartopy.feature\n",
    "import matplotlib.path as mpath"
   ]
  },
  {
   "cell_type": "code",
   "execution_count": null,
   "id": "78cbee76",
   "metadata": {},
   "outputs": [],
   "source": [
    "ds = xr.open_dataset('~/shared/notebooks/CaltechESE1442024/data/CERES_EBAF-TOA_Ed4.2_Subset_200003-202401.nc')\n",
    "ds"
   ]
  },
  {
   "cell_type": "markdown",
   "id": "85e541b8",
   "metadata": {},
   "source": [
    "Net radiative flux at TOA is calculated from:\n",
    "\n",
    "$$\\Delta F=F^{\\downarrow}_{SW} - F^{\\uparrow}_{SW} - F^{\\uparrow}_{LW}$$\n",
    "\n",
    "Where $F^{\\downarrow}_{SW}-F^{\\uparrow}_{SW}$ is the net incoming shortwave radiation and $F^{\\uparrow}_{LW}$ is the outgoing longwave radiation at TOA respectively. "
   ]
  },
  {
   "cell_type": "code",
   "execution_count": null,
   "id": "44f87a1e",
   "metadata": {},
   "outputs": [],
   "source": [
    "rsdt = ds.solar_mon\n",
    "rlut = ds.toa_lw_all_mon\n",
    "rsut = ds.toa_sw_all_mon\n",
    "rlut_clear = ds.toa_lw_clr_c_mon\n",
    "rsut_clear = ds.toa_sw_clr_c_mon"
   ]
  },
  {
   "cell_type": "code",
   "execution_count": null,
   "id": "eb5d104c",
   "metadata": {},
   "outputs": [],
   "source": [
    "absorbed_shortwave_time_mean = (rsdt - rsut).mean({'lon', 'time'})\n",
    "outgoing_longwave_time_mean  = rlut.mean({'lon', 'time'})\n",
    "net_energy_input = absorbed_shortwave_time_mean-outgoing_longwave_time_mean"
   ]
  },
  {
   "cell_type": "code",
   "execution_count": null,
   "id": "abc34db3",
   "metadata": {},
   "outputs": [],
   "source": [
    "fig,(ax,ax1) = plt.subplots(1,2, figsize=(12,10))\n",
    "ax.plot(absorbed_shortwave_time_mean,absorbed_shortwave_time_mean.lat, 'r-',label = 'Absorbed Shortwave')\n",
    "ax.plot(outgoing_longwave_time_mean,outgoing_longwave_time_mean.lat, 'b-',label = 'Outgoing Longwave')\n",
    "ax.fill_betweenx(absorbed_shortwave_time_mean.lat, absorbed_shortwave_time_mean,outgoing_longwave_time_mean, color='g', alpha=0.2)\n",
    "ax.legend(loc=0,fontsize=12)\n",
    "ax.set_xlabel('Net TOA Flux (W/m2)',fontsize=12);ax.set_ylabel('Latitude',fontsize=12)\n",
    "ax.set_title('CERES Net Radiative Flux at TOA, \\ntime mean (2000/03-2024/01) and zonal mean', fontsize=12)\n",
    "ax.set_ylim([-90,90])\n",
    "\n",
    "ax1.plot(net_energy_input,absorbed_shortwave_time_mean.lat, color='g',label = 'Implied Transport')\n",
    "ax1.axvline(0, color='k',linestyle=':')\n",
    "ax1.set_title('Imbalance \\n (Absorbed Shortwave - Outgoing Longwave)', fontsize=12)\n",
    "ax1.set_ylim([-90,90])\n",
    "plt.show()"
   ]
  },
  {
   "cell_type": "markdown",
   "id": "ffdd8b74",
   "metadata": {},
   "source": [
    "\n",
    "<div class=\"alert alert-block alert-info\">\n",
    "<b>TASK:</b>\n",
    "<div> \n",
    "<div>        \n",
    "    \n",
    "Plot the same using clear sky values (rlut_clear and rsut_clear).<div><div>\n",
    "\n",
    "    \n",
    "\n",
    "\n"
   ]
  },
  {
   "cell_type": "code",
   "execution_count": null,
   "id": "956afadc",
   "metadata": {},
   "outputs": [],
   "source": []
  },
  {
   "cell_type": "markdown",
   "id": "e700b9c4",
   "metadata": {},
   "source": [
    "\n",
    "<div class=\"alert alert-block alert-info\">\n",
    "<b>DISCUSS:</b>\n",
    "<div> \n",
    "<div>        \n",
    "    \n",
    "Discuss the discrepencies between meridional patterns derived from the clear sky and full dataset.<div><div>\n",
    "\n",
    "    \n",
    "\n",
    "\n"
   ]
  },
  {
   "cell_type": "markdown",
   "id": "6185ae47",
   "metadata": {},
   "source": [
    "### Meridional Energy Transport\n",
    "\n",
    "From this information, we want to compute the combined meridional energy transport of the Earth's atmosphere and oceans.\n",
    "\n",
    "As outlines by Graeme earlier in the course, the net energy budget of a column (of here, a latitudinal band) of the Earth can be expressed as \n",
    "$$\\frac{\\partial E}{\\partial t} = F_\\text{net, TOA} - \\mathbf{div}{T_A} - \\mathbf{div}{T_O}$$\n",
    "where $\\frac{\\partial E}{\\partial t} $ is the net accummulation of energy in the column, $F_\\text{net, TOA}$ is the net energy input (obtained above) and $-\\mathbf{div}{T_A} - \\mathbf{div}{T_O}$ is the divergence of energy from the column by the atmosphere and oceans.\n",
    "\n",
    "For this problem, we assume the time mean (here we're averaging over 24 years) storage of energy in the column is zero. Then we can rewrite the abonve into an expression for the divergence of energy by the oceans and atmosphere (note $\\phi$ is latitude),\n",
    "\n",
    "$$ \\langle F_\\text{net,TOA}\\rangle = \\langle \\mathbf{div}{T_A} \\rangle + \\langle \\mathbf{div}{T_O}\\rangle = \\frac{1}{a}\\frac{\\partial T_{A+O}}{\\partial\\phi}$$\n",
    "$$ ...$$\n",
    "$$T_{A+O}(\\phi) = 2\\pi R_E^2\\int_{\\phi=\\pi/2}^{\\phi}\\langle F_\\text{net,TOA}(\\phi')\\rangle \\, \\cos{(\\phi')}\\, d\\phi'.$$\n",
    "\n",
    "We can discretize this integral as,\n",
    "\n",
    "$$ T({\\phi_0}) = \\text{Area}(\\phi_0,\\phi_1) \\times F_{net}(\\phi_0,\\phi_1)$$\n",
    "$$ T({\\phi_1}) = \\text{Area}(\\phi_0,\\phi_1) \\times F_{net}(\\phi_0,\\phi_1)+ \\text{Area}(\\phi_1,\\phi_2) \\times F_{net}(\\phi_1,\\phi_2)$$\n",
    "$$ ...$$\n",
    "\n",
    "AKA **a cumulative sum through latitude of the net energy input times the band area.**\n"
   ]
  },
  {
   "cell_type": "markdown",
   "id": "b114cb4a",
   "metadata": {},
   "source": [
    "\n",
    "<div class=\"alert alert-block alert-info\">\n",
    "<b>TASK:</b>\n",
    "<div> \n",
    "<div>        \n",
    "    \n",
    "    Compute and plot the transport term above.\n",
    "\n",
    "<div>\n",
    "    "
   ]
  },
  {
   "cell_type": "markdown",
   "id": "4d74be6c",
   "metadata": {},
   "source": [
    "\n",
    "<div class=\"alert alert-block alert-info\">\n",
    "<div> \n",
    "<div>        \n",
    "    \n",
    "    To do this, we'll first need to approximate the area in each latitude band. This can be expressed,\n",
    "    $$A = R_E^2 (\\sin(\\phi_2) - \\sin(\\phi_1))$$\n",
    "where latitude values are in radians."
   ]
  },
  {
   "cell_type": "code",
   "execution_count": null,
   "id": "2e5588de",
   "metadata": {},
   "outputs": [],
   "source": [
    "# where's not given latitude grid cell bounds here explicitly but the grid is very even so this is simple\n",
    "print(net_energy_input.lat.values)"
   ]
  },
  {
   "cell_type": "code",
   "execution_count": null,
   "id": "caec314e",
   "metadata": {},
   "outputs": [],
   "source": [
    "## creat a band area array (units m)\n",
    "R = 6378 * 1e3\n",
    "lat_lower = ## your code\n",
    "lat_upper = ## your code\n",
    "A_band = ## your code"
   ]
  },
  {
   "cell_type": "markdown",
   "id": "e7cbf517",
   "metadata": {},
   "source": [
    "\n",
    "<div class=\"alert alert-block alert-info\">\n",
    "<div> \n",
    "<div>        \n",
    "    \n",
    "Then use this area array to approximate the integral.    \n",
    "<div>\n",
    "    "
   ]
  },
  {
   "cell_type": "code",
   "execution_count": null,
   "id": "8cdc2a5b",
   "metadata": {},
   "outputs": [],
   "source": [
    "meridional_energy_transport = ## your code"
   ]
  },
  {
   "cell_type": "code",
   "execution_count": null,
   "id": "426030f1",
   "metadata": {},
   "outputs": [],
   "source": [
    "fig,(ax,ax1) = plt.subplots(1,2, figsize=(12,10))\n",
    "ax.plot(absorbed_shortwave_time_mean,absorbed_shortwave_time_mean.lat, 'r-',label = 'Absorbed Shortwave')\n",
    "ax.plot(outgoing_longwave_time_mean,outgoing_longwave_time_mean.lat, 'b-',label = 'Outgoing Longwave')\n",
    "ax.fill_betweenx(absorbed_shortwave_time_mean.lat, absorbed_shortwave_time_mean,outgoing_longwave_time_mean, color='g', alpha=0.2)\n",
    "ax.legend(loc=0,fontsize=12)\n",
    "ax.set_xlabel('Net TOA Flux (W/m2)',fontsize=12);ax.set_ylabel('Latitude',fontsize=12)\n",
    "ax.set_title('CERES Net Radiative Flux at TOA, \\ntime mean (2000/03-2024/01) and zonal mean', fontsize=12)\n",
    "ax.set_ylim([-90,90])\n",
    "\n",
    "# ax1.plot(meridional_energy_transport,meridional_energy_transport.lat, color='g',label = 'Implied Transport')\n",
    "ax1.axvline(0, color='k',linestyle=':')\n",
    "ax1.set_title('Meridional Energy Transport', fontsize=12)\n",
    "ax1.set_xlabel('W',fontsize=12)\n",
    "ax1.set_ylim([-90,90])\n",
    "plt.show()"
   ]
  },
  {
   "cell_type": "markdown",
   "id": "e351d116",
   "metadata": {},
   "source": [
    "\n",
    "<div class=\"alert alert-block alert-info\">\n",
    "<b>DISCUSS:</b>\n",
    "<div> \n",
    "<div>        \n",
    "   \n",
    "Discuss the features of this figure. Is it hemispehrically symmetric? Why/Why not? Where does the transport go to zero? Why? \n",
    "<div>\n",
    "    "
   ]
  },
  {
   "cell_type": "markdown",
   "id": "ef132df8",
   "metadata": {},
   "source": [
    "\n",
    "<div class=\"alert alert-block alert-info\">\n",
    "<b>TASK:</b>\n",
    "<div> \n",
    "<div>        \n",
    "    \n",
    "Repeat this analysis using clear sky values (rlut_clear and rsut_clear).<div><div>\n",
    "\n",
    "    \n",
    "\n",
    "\n"
   ]
  },
  {
   "cell_type": "code",
   "execution_count": null,
   "id": "aff305a1",
   "metadata": {},
   "outputs": [],
   "source": []
  },
  {
   "cell_type": "markdown",
   "id": "3eae5720",
   "metadata": {},
   "source": [
    "\n",
    "<div class=\"alert alert-block alert-info\">\n",
    "<b>DISCUSS:</b>\n",
    "<div> \n",
    "<div>        \n",
    "    \n",
    "Why doesn't this work? What assumptions have been broken?<div><div>\n",
    "\n",
    "    \n",
    "\n",
    "\n"
   ]
  },
  {
   "cell_type": "code",
   "execution_count": null,
   "id": "bb3c759e",
   "metadata": {},
   "outputs": [],
   "source": []
  },
  {
   "cell_type": "code",
   "execution_count": null,
   "id": "faba33b9",
   "metadata": {},
   "outputs": [],
   "source": []
  },
  {
   "cell_type": "code",
   "execution_count": null,
   "id": "6b584cbf",
   "metadata": {},
   "outputs": [],
   "source": []
  }
 ],
 "metadata": {
  "kernelspec": {
   "display_name": "Python 3 (ipykernel)",
   "language": "python",
   "name": "python3"
  },
  "language_info": {
   "codemirror_mode": {
    "name": "ipython",
    "version": 3
   },
   "file_extension": ".py",
   "mimetype": "text/x-python",
   "name": "python",
   "nbconvert_exporter": "python",
   "pygments_lexer": "ipython3",
   "version": "3.8.12"
  }
 },
 "nbformat": 4,
 "nbformat_minor": 5
}
