{
 "cells": [
  {
   "cell_type": "markdown",
   "id": "3fd07482",
   "metadata": {},
   "source": [
    "# Global Mean Sea Level from Altimetry\n",
    "Ruth Moorman April 12th (for Carmen Blackwood ESE144 lectures)"
   ]
  },
  {
   "cell_type": "code",
   "execution_count": null,
   "id": "eafee9a3",
   "metadata": {},
   "outputs": [],
   "source": [
    "import numpy as np\n",
    "import panel as pn\n",
    "import xarray as xr\n",
    "import matplotlib.pyplot as plt\n",
    "import cartopy.crs as ccrs\n",
    "import cartopy.feature"
   ]
  },
  {
   "cell_type": "markdown",
   "id": "29e0a5a8",
   "metadata": {},
   "source": [
    "\n",
    "<div class=\"alert alert-block alert-info\">\n",
    "<b>DATA ACCESS:</b>\n",
    "<div> \n",
    "<div>        \n",
    "In this notebook, all data was obtained from JPL's <b>Physical Oceanography Distributed Active Archive Center (PODAAC)</b>, one of the many directories out there where you can search and access satellite data. PODAAC is part of the NASA EARTHDATA system which houses numerous DAACs of various science themes.\n",
    "<div><div>\n",
    "\n",
    "If you do not have a login to NASA Earthdata login, get one! We won't necessarily need it in class (exept potentially for your final project) but it's a great resource. Instructions are [here](https://www.earthdata.nasa.gov/eosdis/science-system-description/eosdis-components/earthdata-login).\n",
    "\n",
    "\n"
   ]
  },
  {
   "cell_type": "markdown",
   "id": "fd5bb315",
   "metadata": {},
   "source": [
    "## Level 4 Timeseries Data\n",
    "\n",
    "\n",
    "The first data product we'll use is a proprocessed multi-satellite Level 4 product showing Global Mean Sea Level (GSML) that I accessed [here](https://podaac.jpl.nasa.gov/dataset/MERGED_TP_J1_OSTM_OST_GMSL_ASCII_V51#). This product was generated and released as part of the Making Earth Science Data Records for Use in Research Environments (MEaSUREs) program.\n"
   ]
  },
  {
   "cell_type": "code",
   "execution_count": null,
   "id": "04c02c8d",
   "metadata": {},
   "outputs": [],
   "source": [
    "## load data\n",
    "preprocessed_GMSL = xr.open_dataset('~/shared/notebooks/CaltechESE1442024/data/GMSL_TPJAOS_5.1.nc')\n",
    "preprocessed_GMSL"
   ]
  },
  {
   "cell_type": "code",
   "execution_count": null,
   "id": "1a2101bf",
   "metadata": {},
   "outputs": [],
   "source": [
    "fig,ax = plt.subplots(1,1, figsize=(10,7))\n",
    "ax.plot(preprocessed_GMSL.time, preprocessed_GMSL.gmsl, 'bo', markersize=3,alpha=0.1, label='Data (GIA corrected)')\n",
    "ax.plot(preprocessed_GMSL.time, preprocessed_GMSL.smth_gmsl, 'b-', linewidth=1, label='60-day Gaussian Smoothing')\n",
    "ax.plot(preprocessed_GMSL.time, preprocessed_GMSL.gmsl_no_gia, 'go', markersize=3,alpha=0.1, label='Data (no GIA correction)')\n",
    "ax.plot(preprocessed_GMSL.time, preprocessed_GMSL.smth_gmsl_no_gia, 'g-', linewidth=1, label='60-day Gaussian Smoothing')\n",
    "ax.legend(loc=0, fontsize=12)\n",
    "ax.set_ylabel('Preprocessed GMSL Anomaly [mm]', fontsize=15)\n",
    "ax.set_xlabel('Time', fontsize=15)\n",
    "ax.grid(linestyle=':')\n",
    "plt.show()"
   ]
  },
  {
   "cell_type": "markdown",
   "id": "f10c9a9b",
   "metadata": {},
   "source": [
    "\n",
    "<div class=\"alert alert-block alert-info\">\n",
    "<b>TASK:</b>\n",
    "<div>\n",
    "Use the numpy function [np.polyfit](https://numpy.org/doc/stable/reference/generated/numpy.polyfit.html) to compute linear and quadratic fits to the available GMSL rise data (both for the GIA corrected and non GIA corrected data). Plot these functions alongside the timeseries data below. \n",
    "   \n",
    "\n",
    "Note: you will need to use the decimal year dimension `preprocessed_GMSL.decimal_time` to compute fits rather than `preprocessed_GMSL.time` (np.datetime[64]).\n"
   ]
  },
  {
   "cell_type": "code",
   "execution_count": null,
   "id": "48d8fc4c",
   "metadata": {},
   "outputs": [],
   "source": [
    "## compute linear and quadratic fits... ##\n",
    "\n",
    "x = preprocessed_GMSL.decimal_time\n",
    "y = preprocessed_GMSL.gmsl\n",
    "\n",
    "## use np.polyfit to compute linear (deg=1) and quadratic (deg=2) fits\n",
    "### your code ###\n",
    "lin_fit = ##\n",
    "quad_fit = ##"
   ]
  },
  {
   "cell_type": "code",
   "execution_count": null,
   "id": "b2130584",
   "metadata": {},
   "outputs": [],
   "source": [
    "fig,ax = plt.subplots(1,1, figsize=(10,7))\n",
    "ax.plot(x, preprocessed_GMSL.gmsl, 'bo', markersize=3,alpha=0.1, label='Data (GIA corrected)')\n",
    "\n",
    "\n",
    "#### include linear and quadratic fits ####\n",
    "### your code ###\n",
    "rang = np.arange(1993.011526, 2024.124418, .001) # Something relevant for you\n",
    "plt.plot(x2, np.polyval(lin_fit, rang))\n",
    "plt.plot(x2, np.polyval(quad_fit, rang))\n",
    "\n",
    "\n",
    "ax.legend(loc=0, fontsize=12)\n",
    "ax.set_ylabel('Preprocessed GMSL Anomaly [mm]', fontsize=15)\n",
    "ax.set_xlabel('Time', fontsize=15)\n",
    "ax.grid(linestyle=':')\n",
    "plt.show()"
   ]
  },
  {
   "cell_type": "markdown",
   "id": "f95200d7",
   "metadata": {},
   "source": [
    "\n",
    "<div class=\"alert alert-block alert-info\">\n",
    "<b>TASK:</b>\n",
    "<div>\n",
    "Print your fits and interpret the linear rate of change of sea-level over the satellite era, and it's potential acceleration.\n"
   ]
  },
  {
   "cell_type": "code",
   "execution_count": null,
   "id": "00d6ff4a",
   "metadata": {},
   "outputs": [],
   "source": []
  },
  {
   "cell_type": "markdown",
   "id": "5449d4c2",
   "metadata": {},
   "source": [
    "\n",
    "<div class=\"alert alert-block alert-info\">\n",
    "<b>DISCUSS:</b>\n",
    "<div>\n",
    "What methods are available to us to try and determine whether sea level rise has truly accelerated over the satellite era?\n",
    "\n"
   ]
  },
  {
   "cell_type": "markdown",
   "id": "41f8d22d",
   "metadata": {},
   "source": [
    "\n",
    "<div class=\"alert alert-block alert-info\">\n",
    "<b>DISCUSS:</b>\n",
    "<div>\n",
    "Glacial Isostatic Adjustement (GIA) is a process by which the Earth's mantle moves and crust deforms in response to the removal of large ice sheets since the last ice age. Areas where the crust was pushed down by ice sheets previously are now rebounding (rising upwards), with halos present around these regions where the crust is deprepressing as mantle material flows into the ice sheet region from surrounding areas. \n",
    "    <div>\n",
    "\n",
    "What is the effect of the GIA correction and what does this indicate abount the mean effect of GIA over the oceans? Check out <a href=\"https://grace.jpl.nasa.gov/internal_resources/134/\">this map of modeled GIA trends</a> to confirm.\n",
    "\n"
   ]
  },
  {
   "cell_type": "code",
   "execution_count": null,
   "id": "a14e3fb9",
   "metadata": {},
   "outputs": [],
   "source": []
  }
 ],
 "metadata": {
  "kernelspec": {
   "display_name": "Python 3 (ipykernel)",
   "language": "python",
   "name": "python3"
  },
  "language_info": {
   "codemirror_mode": {
    "name": "ipython",
    "version": 3
   },
   "file_extension": ".py",
   "mimetype": "text/x-python",
   "name": "python",
   "nbconvert_exporter": "python",
   "pygments_lexer": "ipython3",
   "version": "3.8.12"
  }
 },
 "nbformat": 4,
 "nbformat_minor": 5
}
