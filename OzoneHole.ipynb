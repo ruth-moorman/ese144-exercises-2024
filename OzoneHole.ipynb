{
 "cells": [
  {
   "cell_type": "markdown",
   "id": "f35a1fb7",
   "metadata": {},
   "source": [
    "# The Ozone Hole\n",
    "Ruth Moorman May 14th 2024 (for Nathaniel Livesey ESE144 lectures)\n"
   ]
  },
  {
   "cell_type": "markdown",
   "id": "d1621af9",
   "metadata": {},
   "source": [
    "\n",
    "<div class=\"alert alert-block alert-info\">\n",
    "<b>DATA:</b>\n",
    "<div> \n",
    "<div>        \n",
    "    \n",
    "I unfortunately had difficulty obtaining ozone data derived from the Microwave Limb Sounder for out activity. A gridded product looks like it should be available <a href=\"https://search.earthdata.nasa.gov/search/granules/collection-details?p=C2042566088-GES_DISC&pg%5B0%5D%5Bv%5D=f&pg%5B0%5D%5Bgsk%5D=-start_date&g=G3003268466-GES_DISC&q=ozone&fi=MLS&fl=3%2B-%2BGridded%2BObservations&tl=1715708126.667%213%21%21&zoom=0\">here</a> but when I downloaded data from this source it did not have the structure I anticipated (think there may be an issue here...). So here I'm using some L4 model (data assimilating) output, since it has units of Dobson Units, from, you guessed it, <a href=\"https://cds.climate.copernicus.eu/cdsapp#!/dataset/satellite-ozone-v1?tab=overview\">Copernicus</a>.  \n",
    "    \n",
    "<div>\n",
    "<div>\n",
    "\n",
    "    \n",
    "We have a monthly gridded timeseries of total column ozone from 1979 to 2018."
   ]
  },
  {
   "cell_type": "code",
   "execution_count": null,
   "id": "dfb23049",
   "metadata": {},
   "outputs": [],
   "source": [
    "import numpy as np\n",
    "import xarray as xr\n",
    "import matplotlib.pyplot as plt\n",
    "import matplotlib.patches as mpatches\n",
    "import cartopy.crs as ccrs\n",
    "import cartopy.feature\n",
    "import matplotlib.path as mpath\n",
    "import matplotlib.ticker as mticker\n",
    "import warnings\n",
    "warnings.filterwarnings('ignore')\n"
   ]
  },
  {
   "cell_type": "code",
   "execution_count": null,
   "id": "9cff1e22",
   "metadata": {},
   "outputs": [],
   "source": [
    "MSR_interpolated_ozone = xr.open_mfdataset('~/shared/notebooks/CaltechESE1442024/data/ozonefulltimeseries/*.nc').sel(latitude = slice(-90,-30))\n",
    "total_ozone_column     = MSR_interpolated_ozone.total_ozone_column\n",
    "total_ozone_column"
   ]
  },
  {
   "cell_type": "code",
   "execution_count": null,
   "id": "6588a97d",
   "metadata": {},
   "outputs": [],
   "source": [
    "longitude = total_ozone_column.longitude\n",
    "latitude  = total_ozone_column.latitude"
   ]
  },
  {
   "cell_type": "markdown",
   "id": "7daa1efb",
   "metadata": {},
   "source": [
    "## Plot total column ozone for the year of the largest ozone hole (2006)"
   ]
  },
  {
   "cell_type": "code",
   "execution_count": null,
   "id": "ea5ce510",
   "metadata": {},
   "outputs": [],
   "source": [
    "dobsonunit_2006 = total_ozone_column.sel(time='2006')"
   ]
  },
  {
   "cell_type": "code",
   "execution_count": null,
   "id": "131d7415",
   "metadata": {},
   "outputs": [],
   "source": [
    "dobsonunit_2006"
   ]
  },
  {
   "cell_type": "code",
   "execution_count": null,
   "id": "50397ee6",
   "metadata": {},
   "outputs": [],
   "source": [
    "fig, axs = plt.subplots(4,3,figsize=(15, 20), subplot_kw={'projection': ccrs.SouthPolarStereo()},gridspec_kw={'wspace':0.1,'hspace':0.1})\n",
    "for row in range(4):\n",
    "    for column in range(3):\n",
    "        axs[row,column].add_feature(cartopy.feature.COASTLINE)\n",
    "        theta = np.linspace(0, 2*np.pi, 100)\n",
    "        center, radius = [0.5, 0.5], 0.5\n",
    "        verts = np.vstack([np.sin(theta), np.cos(theta)]).T\n",
    "        circle = mpath.Path(verts * radius + center)\n",
    "        axs[row,column].set_boundary(circle, transform=axs[row,column].transAxes)\n",
    "        axs[row,column].set_extent([-180, 180, -90, -30], ccrs.PlateCarree())\n",
    "\n",
    "vmin=200\n",
    "vmax=320\n",
    "c = axs[0,0].pcolormesh(longitude,latitude,dobsonunit_2006.isel(time=0),vmin=vmin, vmax=vmax,cmap='gist_ncar',zorder=1, transform=ccrs.PlateCarree())\n",
    "axs[0,1].pcolormesh(longitude,latitude,dobsonunit_2006.isel(time=1),vmin=vmin, vmax=vmax,cmap='gist_ncar',zorder=1, transform=ccrs.PlateCarree())\n",
    "axs[0,2].pcolormesh(longitude,latitude,dobsonunit_2006.isel(time=2),vmin=vmin, vmax=vmax,cmap='gist_ncar',zorder=1, transform=ccrs.PlateCarree())\n",
    "\n",
    "axs[1,0].pcolormesh(longitude,latitude,dobsonunit_2006.isel(time=3),vmin=vmin, vmax=vmax,cmap='gist_ncar',zorder=1, transform=ccrs.PlateCarree())\n",
    "axs[1,1].pcolormesh(longitude,latitude,dobsonunit_2006.isel(time=4),vmin=vmin, vmax=vmax,cmap='gist_ncar',zorder=1, transform=ccrs.PlateCarree())\n",
    "axs[1,2].pcolormesh(longitude,latitude,dobsonunit_2006.isel(time=5),vmin=vmin, vmax=vmax,cmap='gist_ncar',zorder=1, transform=ccrs.PlateCarree())\n",
    "\n",
    "axs[2,0].pcolormesh(longitude,latitude,dobsonunit_2006.isel(time=6),vmin=vmin, vmax=vmax,cmap='gist_ncar',zorder=1, transform=ccrs.PlateCarree())\n",
    "axs[2,1].pcolormesh(longitude,latitude,dobsonunit_2006.isel(time=7),vmin=vmin, vmax=vmax,cmap='gist_ncar',zorder=1, transform=ccrs.PlateCarree())\n",
    "axs[2,2].pcolormesh(longitude,latitude,dobsonunit_2006.isel(time=8),vmin=vmin, vmax=vmax,cmap='gist_ncar',zorder=1, transform=ccrs.PlateCarree())\n",
    "\n",
    "axs[3,0].pcolormesh(longitude,latitude,dobsonunit_2006.isel(time=9),vmin=vmin,  vmax=vmax,cmap='gist_ncar',zorder=1, transform=ccrs.PlateCarree())\n",
    "axs[3,1].pcolormesh(longitude,latitude,dobsonunit_2006.isel(time=10),vmin=vmin, vmax=vmax,cmap='gist_ncar',zorder=1, transform=ccrs.PlateCarree())\n",
    "axs[3,2].pcolormesh(longitude,latitude,dobsonunit_2006.isel(time=11),vmin=vmin, vmax=vmax,cmap='gist_ncar',zorder=1, transform=ccrs.PlateCarree())\n",
    "\n",
    "axs[0,0].set_title('Jan')\n",
    "axs[0,1].set_title('Feb')\n",
    "axs[0,2].set_title('Mar')\n",
    "\n",
    "axs[1,0].set_title('Apr')\n",
    "axs[1,1].set_title('May')\n",
    "axs[1,2].set_title('Jun')\n",
    "\n",
    "axs[2,0].set_title('Jul')\n",
    "axs[2,1].set_title('Aug')\n",
    "axs[2,2].set_title('Sept')\n",
    "\n",
    "axs[3,0].set_title('Oct')\n",
    "axs[3,1].set_title('Nov')\n",
    "axs[3,2].set_title('Dec')\n",
    "\n",
    "cax = fig.add_axes([0.25, 0.93, 0.5, 0.015]); cbar=plt.colorbar(c,cax = cax,orientation='horizontal'); cbar.set_label('DU', fontsize = 12)\n",
    "\n",
    "plt.show()"
   ]
  },
  {
   "cell_type": "markdown",
   "id": "c7bc250c",
   "metadata": {},
   "source": [
    "## Timeseries of Ozone Hole Area\n",
    "\n",
    "Ozone hole area is typically defined as the total area at a given time in the southern hemisphere with total column ozone less than 220 Dobson Units.\n",
    "\n",
    "To calculate this, we'll need to generate a cell area array (again, similar to last week, this will be very approximate here since we're missing some metadata...) and use the `xarray.where()` function.\n",
    "\n",
    "Note, this will be coming from L4 monthly mean data, so won't capture extreme values on smaller timescales."
   ]
  },
  {
   "cell_type": "code",
   "execution_count": null,
   "id": "0159771b",
   "metadata": {},
   "outputs": [],
   "source": [
    "latitude.values"
   ]
  },
  {
   "cell_type": "code",
   "execution_count": null,
   "id": "54e2272a",
   "metadata": {},
   "outputs": [],
   "source": [
    "## have to assume a central grid\n",
    "lat_lower = np.append(-90,latitude[1:] - np.diff(latitude)/2)\n",
    "lat_upper = np.append(-89.75,latitude[1:] + np.diff(latitude)/2)\n",
    "R = 6378 * 1e3\n",
    "sinϕ1_minus_sinϕ2   = np.sin(np.deg2rad(lat_lower)) - np.sin(np.deg2rad(lat_upper)) # one dimesional array\n",
    "_,sinϕ1_minus_sinϕ2 = np.meshgrid(np.zeros(720),sinϕ1_minus_sinϕ2) # make into a grid\n",
    "θ1_minus_θ2         = np.deg2rad(-179.75) - np.deg2rad(-179.25) ## this is constant for this grid\n",
    "cell_area           = R**2 * sinϕ1_minus_sinϕ2 * θ1_minus_θ2\n",
    "cell_area           = xr.DataArray(cell_area, coords = [dobsonunit_2006.latitude,dobsonunit_2006.longitude ], dims=['latitude', 'longitude'])"
   ]
  },
  {
   "cell_type": "code",
   "execution_count": null,
   "id": "38810505",
   "metadata": {},
   "outputs": [],
   "source": [
    "## stack in time\n",
    "cell_area_full = cell_area.expand_dims({'time':total_ozone_column.time})"
   ]
  },
  {
   "cell_type": "markdown",
   "id": "3d1228e1",
   "metadata": {},
   "source": [
    "\n",
    "<div class=\"alert alert-block alert-info\">\n",
    "<b>TASK:</b>\n",
    "<div> \n",
    "<div>   \n",
    "    Calculate and plot a timeseries of ozone hole area in millions of km2 (m2/1e12). [ use where.() function]\n",
    "<div>\n",
    "<div>\n",
    "\n",
    "    \n"
   ]
  },
  {
   "cell_type": "code",
   "execution_count": null,
   "id": "fd5235be",
   "metadata": {},
   "outputs": [],
   "source": []
  },
  {
   "cell_type": "markdown",
   "id": "b7f48bbd",
   "metadata": {},
   "source": [
    "\n",
    "<div class=\"alert alert-block alert-info\">\n",
    "<b>TASK:</b>\n",
    "<div> \n",
    "<div>        \n",
    "    \n",
    "Plot the same using clear sky values (rlut_clear and rsut_clear).<div><div>\n",
    "\n",
    "    \n",
    "\n",
    "\n"
   ]
  },
  {
   "cell_type": "markdown",
   "id": "97646539",
   "metadata": {},
   "source": [
    "\n",
    "<div class=\"alert alert-block alert-info\">\n",
    "<b>TASK:</b>\n",
    "<div> \n",
    "<div>   \n",
    "Plot the maximum (monthly) ozone hole area for each year. [use groupby('time.year')] <div>\n",
    "<div>\n",
    "\n",
    "    \n"
   ]
  },
  {
   "cell_type": "code",
   "execution_count": null,
   "id": "46383b86",
   "metadata": {},
   "outputs": [],
   "source": []
  }
 ],
 "metadata": {
  "kernelspec": {
   "display_name": "Python 3 (ipykernel)",
   "language": "python",
   "name": "python3"
  },
  "language_info": {
   "codemirror_mode": {
    "name": "ipython",
    "version": 3
   },
   "file_extension": ".py",
   "mimetype": "text/x-python",
   "name": "python",
   "nbconvert_exporter": "python",
   "pygments_lexer": "ipython3",
   "version": "3.8.12"
  }
 },
 "nbformat": 4,
 "nbformat_minor": 5
}
