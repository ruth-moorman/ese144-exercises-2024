{
 "cells": [
  {
   "cell_type": "markdown",
   "id": "eaf67f04",
   "metadata": {},
   "source": [
    "# Terrestrial vs Oceanic Water Storage and ENSO\n",
    "Ruth Moorman May 7th 2024 (for Carmen Blackwood ESE144 lectures)\n",
    "\n",
    "In this notebook we'll be looking into the relationship between El Nino/La Nina and terrestrial water storage. In particular, we'll be reproducing some of the analysis from \n",
    "<a href=\"https://agupubs.onlinelibrary.wiley.com/doi/full/10.1029/2012GL053055\">\"The 2011 La Nina: So strong the oceans fell\" (2012) by Carmen and colleagues</a>."
   ]
  },
  {
   "cell_type": "markdown",
   "id": "15611733",
   "metadata": {},
   "source": [
    "\n",
    "<div class=\"alert alert-block alert-info\">\n",
    "<b>DATA:</b>\n",
    "<div> \n",
    "<div>        \n",
    "We'll again be using data from JPL's <b>Physical Oceanography Distributed Active Archive Center (PODAAC)</b>.\n",
    "<div><div>\n",
    "\n",
    "Here, in particular, we'll be using <a href=\"https://podaac.jpl.nasa.gov/dataset/TELLUS_GRAC-GRFO_MASCON_CRI_GRID_RL06.1_V3#\">JPL GRACE and GRACE-FO Mascon Ocean, Ice, and Hydrology Equivalent Water Height Coastal Resolution Improvement (CRI) Filtered Release 06.1 Version 03</a>, which is the latest, near-real time release of JPL GRACE \"mascon\" (mass concentration) gravity anomaly solutions.\n",
    "\n",
    "I also used <a href=\"https://psl.noaa.gov/data/timeseries/monthly/NINO34/\">this Nino3.4 timeseries</a>."
   ]
  },
  {
   "cell_type": "code",
   "execution_count": null,
   "id": "77b4444b",
   "metadata": {},
   "outputs": [],
   "source": [
    "import numpy as np\n",
    "import xarray as xr\n",
    "import matplotlib.pyplot as plt\n",
    "import matplotlib.patches as mpatches\n",
    "import cartopy.crs as ccrs\n",
    "import cartopy.feature\n",
    "import matplotlib.path as mpath\n",
    "import matplotlib.ticker as mticker\n",
    "import warnings\n",
    "warnings.filterwarnings('ignore')\n"
   ]
  },
  {
   "cell_type": "code",
   "execution_count": null,
   "id": "3abf3b7b",
   "metadata": {},
   "outputs": [],
   "source": [
    "## load data \n",
    "jpl_mascons = xr.open_mfdataset('~/shared/notebooks/CaltechESE1442024/data/GRCTellus.JPL.200204_202402.GLO.RL06.1M.MSCNv03CRI.nc')\n",
    "jpl_mascons"
   ]
  },
  {
   "cell_type": "markdown",
   "id": "4abf3605",
   "metadata": {},
   "source": [
    "## Timeseries of terrestrial and ocean mass changes\n",
    "\n",
    "We want to make a timeseries of the LWE thickness anomaly over the land and over the oceans. \n",
    "\n",
    "To do that comparison, we'll need to keep in mind that the mean LWE thickness anomaly over the oceans will not be directly comparable to the mean LWE thickness anomaly over land, since these values represent masses over water spread over different areas. Instead we'll compare LWE volume anomalies by first multiplying LWE Thickness anomalies by cell area. \n",
    "\n",
    "The data product does not come with a cell area coordinate so I have crudely (assuming the Earth is a sphere, which it isn't) computed one from the latitude and longitude grid (this may introduce some errors if it doesn't match what the GRACE JPL team used in processing). I calculate the cell area according to,\n",
    "\n",
    "$$ A = R^2 (\\sin{\\phi_1}-\\sin{\\phi_2})(\\theta_1 - \\theta_2)$$\n",
    "\n",
    "where $R$ is the Earth's radius (approximate), $\\phi$ terms are the latitude bounds of the grid, and $\\theta$ terms are the longitude bounds (both in radians).\n",
    "\n"
   ]
  },
  {
   "cell_type": "code",
   "execution_count": null,
   "id": "ce0d41c8",
   "metadata": {},
   "outputs": [],
   "source": [
    "land_mask = jpl_mascons.land_mask"
   ]
  },
  {
   "cell_type": "code",
   "execution_count": null,
   "id": "bae997ef",
   "metadata": {},
   "outputs": [],
   "source": [
    "## creat a cell area array (units m)\n",
    "lat_bounds = jpl_mascons.lat_bounds.values\n",
    "lon_bounds = jpl_mascons.lon_bounds.values\n",
    "R = 6378 * 1e3\n",
    "sinϕ1_minus_sinϕ2   = np.sin(np.deg2rad(lat_bounds[:,0])) - np.sin(np.deg2rad(lat_bounds[:,1])) # one dimesional array\n",
    "_,sinϕ1_minus_sinϕ2 = np.meshgrid(np.zeros(720),sinϕ1_minus_sinϕ2) # make into a grid\n",
    "θ1_minus_θ2         = np.deg2rad(lon_bounds[0,0]) - np.deg2rad(lon_bounds[0,1]) ## this is constant for this grid\n",
    "cell_area           = R**2 * sinϕ1_minus_sinϕ2 * θ1_minus_θ2\n",
    "cell_area           = xr.DataArray(cell_area, coords = land_mask.coords)"
   ]
  },
  {
   "cell_type": "code",
   "execution_count": null,
   "id": "18c0201e",
   "metadata": {},
   "outputs": [],
   "source": [
    "lwe_volume = jpl_mascons.lwe_thickness * 100 * cell_area # thickness is in cm, here is m3"
   ]
  },
  {
   "cell_type": "code",
   "execution_count": null,
   "id": "c5bfe236",
   "metadata": {},
   "outputs": [],
   "source": [
    "## mask JPL mascons using land mask\n",
    "ocean_mascons = lwe_volume.where(land_mask==0)\n",
    "land_mascons  = lwe_volume.where(land_mask==1)"
   ]
  },
  {
   "cell_type": "code",
   "execution_count": null,
   "id": "2cbf1f8a",
   "metadata": {},
   "outputs": [],
   "source": [
    "## sum spatially\n",
    "land_mascons_sum    = land_mascons.sum({'lon', 'lat'})\n",
    "ocean_mascons_sum   = ocean_mascons.sum({'lon', 'lat'})"
   ]
  },
  {
   "cell_type": "markdown",
   "id": "a88c436d",
   "metadata": {},
   "source": [
    "\n",
    "<div class=\"alert alert-block alert-info\">\n",
    "<b>NOTE:</b>\n",
    "\n",
    "When we're interested in long term trends or interannual variations of climate quantities, it's common to remove a monthly \"climatology\". This means we remove the mean January value from each January datapoint, the mean February value from each February datapoint, and so on.\n",
    "<div>\n",
    "Using xarray this is quatire simply with the <a href =\"https://docs.xarray.dev/en/stable/generated/xarray.DataArray.groupby.html\">groupby function</a>."
   ]
  },
  {
   "cell_type": "code",
   "execution_count": null,
   "id": "3efd5f3a",
   "metadata": {},
   "outputs": [],
   "source": [
    "## remove climatology\n",
    "land_mascons_sum   = (land_mascons_sum.groupby('time.month')  - land_mascons_sum.groupby('time.month').mean()).load() # remove monthly climatology\n",
    "ocean_mascons_sum  = (ocean_mascons_sum.groupby('time.month') - ocean_mascons_sum.groupby('time.month').mean()).load() # remove monthly climatology\n"
   ]
  },
  {
   "cell_type": "markdown",
   "id": "8173cac6",
   "metadata": {},
   "source": [
    "\n",
    "<div class=\"alert alert-block alert-info\">\n",
    "<b>NOTE:</b>\n",
    "\n",
    "We'll use another xarray function, <a href=\"https://docs.xarray.dev/en/stable/generated/xarray.DataArray.rolling.html\">rolling</a>, to compute running means.<div>\n"
   ]
  },
  {
   "cell_type": "code",
   "execution_count": null,
   "id": "0311ce24",
   "metadata": {},
   "outputs": [],
   "source": [
    "## running mean\n",
    "land_mascons_sum_running  = land_mascons_sum.rolling(time=3, center=True).mean().load()\n",
    "ocean_mascons_sum_running = ocean_mascons_sum.rolling(time=3, center=True).mean().load()"
   ]
  },
  {
   "cell_type": "code",
   "execution_count": null,
   "id": "7eae7405",
   "metadata": {},
   "outputs": [],
   "source": [
    "nino34 = np.loadtxt('nino34_timeseries.txt', usecols=np.arange(1,13)).flatten()\n",
    "nino34 = xr.DataArray(nino34, coords = [np.arange('1950-01', '2025-01', dtype='datetime64[M]').astype('datetime64[ns]')+np.timedelta64(14,'D')], dims='time')\n",
    "nino34 = nino34.sel(time=slice('2002-04','2024-02'))"
   ]
  },
  {
   "cell_type": "code",
   "execution_count": null,
   "id": "399cc2ed",
   "metadata": {},
   "outputs": [],
   "source": [
    "fig,(ax,ax1) = plt.subplots(2,1, figsize=(12,9),gridspec_kw={'hspace':0.1, 'height_ratios':[1,0.3]})\n",
    "ax.plot(ocean_mascons_sum.time, ocean_mascons_sum, 'bo-', alpha=0.2,markersize=2,label='Monthly GRACE over ocean')\n",
    "ax.plot(ocean_mascons_sum_running.time, ocean_mascons_sum_running, 'b-', linewidth=2, label='3 month running mean')\n",
    "ax.plot(land_mascons_sum.time, -land_mascons_sum, 'ko-', alpha=0.2,markersize=2,label='-(Monthly GRACE over land)')\n",
    "ax.plot(land_mascons_sum_running.time, -land_mascons_sum_running, 'k-', linewidth=2, label='-(3 month running mean)')\n",
    "ax.legend(loc=0)\n",
    "\n",
    "\n",
    "## Nino 3.4 plots\n",
    "ax1.plot(nino34.time, nino34, 'k-')\n",
    "ax1.fill_between(nino34.time, nino34.where(nino34>=0.4),0.4,color='r', alpha=0.2)\n",
    "ax1.fill_between(nino34.time, nino34.where(nino34<=-0.4),-0.4,color='b', alpha=0.2)\n",
    "ax1.axhline(0,color='k', linewidth=0.5)\n",
    "ax1.axhline(0.4,color='k',linestyle='--', linewidth=0.5)\n",
    "ax1.axhline(-0.4,color='k', linestyle='--',linewidth=0.5)\n",
    "ax1.set_ylim([-2,3])\n",
    "\n",
    "ax.grid(axis='x', linestyle=':')\n",
    "ax1.grid(axis='x', linestyle=':')\n",
    "ax.set_ylabel('Integrated LWE Volume Anomaly (m$^3$)')\n",
    "ax1.set_ylabel('Nino 3.4 Index')\n",
    "plt.show()"
   ]
  },
  {
   "cell_type": "markdown",
   "id": "f4248918",
   "metadata": {},
   "source": [
    "## Mapping the terrestrial water storage anomaly between 2010 and 2011 (Fig 3) - La Nina signal\n",
    "\n",
    "Fig 3 in Boening et al 2011 shows the anomaly between the 2010 JFM (January-February-March) and 2011 MAM (March-April-May) mean terrestrial water storage. This is replicated here. \n"
   ]
  },
  {
   "cell_type": "code",
   "execution_count": null,
   "id": "e1410b00",
   "metadata": {},
   "outputs": [],
   "source": [
    "## mask JPL mascons using land mask, we'll use the land masked values here\n",
    "land_mascons  = jpl_mascons.lwe_thickness.where(land_mask==1)"
   ]
  },
  {
   "cell_type": "code",
   "execution_count": null,
   "id": "9e24f4a5",
   "metadata": {},
   "outputs": [],
   "source": [
    "JFM_2010    = land_mascons.sel(time=slice('2010-01','2010-03')).mean('time')\n",
    "MAM_2011    = land_mascons.sel(time=slice('2011-03','2011-05')).mean('time')\n",
    "TWS_anomaly = (MAM_2011 - JFM_2010)*10 # convert to mm"
   ]
  },
  {
   "cell_type": "code",
   "execution_count": null,
   "id": "589cb0de",
   "metadata": {},
   "outputs": [],
   "source": [
    "fig = plt.figure(figsize=[15, 7])\n",
    "proj = ccrs.Robinson(central_longitude=160)\n",
    "ax = plt.subplot(projection = proj)\n",
    "cf=ax.pcolormesh(TWS_anomaly.lon, TWS_anomaly.lat, TWS_anomaly, transform = ccrs.PlateCarree(), vmin=-150,vmax=150, cmap='RdBu')\n",
    "ax.contour(land_mask.lon, land_mask.lat,land_mask, levels=[0,1], colors=['k'],transform = ccrs.PlateCarree())\n",
    "\n",
    "cax = fig.add_axes([0.26, 0.05, 0.5, 0.03])\n",
    "cbar=plt.colorbar(cf,cax = cax,orientation='horizontal',shrink = 0.5)\n",
    "cax.set_xlabel('Equivalent Water Height [mm]', fontsize = 15)\n",
    "ax.gridlines(crs=ccrs.PlateCarree(), draw_labels=False,linewidth=1, color='gray', alpha=0.5, linestyle='--')\n",
    "ax.set_title('MAM 2011 - JFM 2010 Terrestrial Water Storage', fontsize=15)\n",
    "plt.show()\n",
    "\n"
   ]
  },
  {
   "cell_type": "markdown",
   "id": "7368980a",
   "metadata": {},
   "source": [
    "\n",
    "<div class=\"alert alert-block alert-info\">\n",
    "<b>DISCUSS:</b>\n",
    "\n",
    "How does this compare to expected <a href=\"https://sotp.nyc3.cdn.digitaloceanspaces.com/wp-content/uploads/2016/04/elnino-lanina-teleconnections.jpg\">La Nina rainfall patterns</a>?\n",
    " <div><div>\n",
    "     \n",
    "\n",
    "\n",
    "   \n",
    "The JPL GRACE solutions appear more 'blocky' or low resolution than the solutions presented in Boening et al (2011), is this a true difference in resolution? Discuss some of the differences between GRACE solutions released by different analysis centers.\n"
   ]
  },
  {
   "cell_type": "markdown",
   "id": "c324a16c",
   "metadata": {},
   "source": [
    "## Mapping the terrestrial water storage anomaly between 2015 and 2016 (New) - El Nino signal\n",
    "\n",
    "Here let's compare 2015 JFM (January-February-March, start of El Nino) and 2016 MAM (March-April-May, end of El Nino) mean terrestrial water storage.\n"
   ]
  },
  {
   "cell_type": "code",
   "execution_count": null,
   "id": "e15ee84a",
   "metadata": {},
   "outputs": [],
   "source": [
    "JFM_2015    = land_mascons.sel(time=slice('2015-01','2015-03')).mean('time')\n",
    "MAM_2016    = land_mascons.sel(time=slice('2016-03','2016-05')).mean('time')\n",
    "TWS_anomaly = (MAM_2016 - JFM_2015)*10 # convert to mm"
   ]
  },
  {
   "cell_type": "code",
   "execution_count": null,
   "id": "81edc39a",
   "metadata": {},
   "outputs": [],
   "source": [
    "fig = plt.figure(figsize=[15, 7])\n",
    "proj = ccrs.Robinson(central_longitude=160)\n",
    "ax = plt.subplot(projection = proj)\n",
    "cf=ax.pcolormesh(TWS_anomaly.lon, TWS_anomaly.lat, TWS_anomaly, transform = ccrs.PlateCarree(), vmin=-150,vmax=150, cmap='RdBu')\n",
    "ax.contour(land_mask.lon, land_mask.lat,land_mask, levels=[0,1], colors=['k'],transform = ccrs.PlateCarree())\n",
    "\n",
    "cax = fig.add_axes([0.26, 0.05, 0.5, 0.03])\n",
    "cbar=plt.colorbar(cf,cax = cax,orientation='horizontal',shrink = 0.5)\n",
    "cax.set_xlabel('Equivalent Water Height [mm]', fontsize = 15)\n",
    "ax.gridlines(crs=ccrs.PlateCarree(), draw_labels=False,linewidth=1, color='gray', alpha=0.5, linestyle='--')\n",
    "ax.set_title('MAM 2015 - JFM 2016 Terrestrial Water Storage', fontsize=15)\n",
    "plt.show()\n",
    "\n"
   ]
  },
  {
   "cell_type": "markdown",
   "id": "e6944b2f",
   "metadata": {},
   "source": [
    "\n",
    "<div class=\"alert alert-block alert-info\">\n",
    "<b>DISCUSS:</b>\n",
    "\n",
    "How does this compare to expected El Nino rainfall patterns?\n",
    "    \n",
    "    "
   ]
  },
  {
   "cell_type": "markdown",
   "id": "74af20d7",
   "metadata": {},
   "source": [
    "## How much of Terrestrial Water Storage interannual variability is explained by El Nino?\n",
    "\n",
    "(a preliminary look...)"
   ]
  },
  {
   "cell_type": "markdown",
   "id": "fd22e575",
   "metadata": {},
   "source": [
    "\n",
    "<div class=\"alert alert-block alert-info\">\n",
    "<b>TASK:</b>\n",
    "<div>\n",
    "    \n",
    " Reproduce the time series figure from above but with <b>detrended</b> GRACE Land and Ocean storage.\n",
    "   <div>\n",
    " \n",
    "Do this by computing linear fits to the datasets (e.g. using <a href=\"https://numpy.org/doc/stable/reference/generated/numpy.polyfit.html\">np.polyfit</a>) and removing that linear function from the data.\n",
    "\n",
    "   <div>\n"
   ]
  },
  {
   "cell_type": "code",
   "execution_count": null,
   "id": "54872e0f",
   "metadata": {},
   "outputs": [],
   "source": [
    "## compute linear fits... ##\n",
    "\n",
    "x = ocean_mascons_sum.time.astype('float') # can't use time dimension in datetime64 format\n",
    "y_ocean = ocean_mascons_sum\n",
    "y_land  = land_mascons_sum\n",
    "\n",
    "## your code here... ##\n",
    "\n",
    "# fit_ocean = \n",
    "# fit_land = \n",
    "\n",
    "## remove linear fit from data\n",
    "# detrended_ocean = \n",
    "# detrended_land  = \n",
    "\n",
    "## running mean\n",
    "# detrended_ocean_running = \n",
    "# detrended_land_running  = \n"
   ]
  },
  {
   "cell_type": "code",
   "execution_count": null,
   "id": "0667efde",
   "metadata": {},
   "outputs": [],
   "source": [
    "fig,(ax,ax1) = plt.subplots(2,1, figsize=(15,9),gridspec_kw={'hspace':0.1, 'height_ratios':[1,1]})\n",
    "\n",
    "## your code here...(uncomment and alter) ##\n",
    "# ax.plot(,, 'bo-', alpha=0.2,markersize=2,label='Monthly GRACE over ocean [detrended]')\n",
    "# ax.plot(,, 'b-', linewidth=2, label='3 month running mean [detrended]')\n",
    "# ax.plot(,, 'ko-', alpha=0.2,markersize=2,label='-(Monthly GRACE over land) [detrended]')\n",
    "# ax.plot(,, 'k-', linewidth=2, label='-(3 month running mean) [detrended]')\n",
    "# ax.legend(loc=0)\n",
    "# ax.axhline(0,color='k', linewidth=0.5)\n",
    "\n",
    "\n",
    "## Nino 3.4 plots (unchanged)\n",
    "ax1.plot(nino34.time, nino34, 'k-')\n",
    "ax1.fill_between(nino34.time, nino34.where(nino34>=0.4),0.4,color='r', alpha=0.2)\n",
    "ax1.fill_between(nino34.time, nino34.where(nino34<=-0.4),-0.4,color='b', alpha=0.2)\n",
    "ax1.axhline(0,color='k', linewidth=0.5)\n",
    "ax1.axhline(0.4,color='k',linestyle='--', linewidth=0.5)\n",
    "ax1.axhline(-0.4,color='k', linestyle='--',linewidth=0.5)\n",
    "ax1.set_ylim([-2,3])\n",
    "\n",
    "ax.grid(axis='x', linestyle=':')\n",
    "ax1.grid(axis='x', linestyle=':')\n",
    "ax.set_ylabel('Integrated LWE Volume Anomaly (m$^3$)')\n",
    "ax1.set_ylabel('Nino 3.4 Index')\n",
    "plt.show()"
   ]
  },
  {
   "cell_type": "markdown",
   "id": "aa461cb6",
   "metadata": {},
   "source": [
    "\n",
    "<div class=\"alert alert-block alert-info\">\n",
    "\n",
    "\n",
    "Discuss the relationship between El Nino and TWS."
   ]
  },
  {
   "cell_type": "code",
   "execution_count": null,
   "id": "6413b3e5",
   "metadata": {},
   "outputs": [],
   "source": []
  },
  {
   "cell_type": "code",
   "execution_count": null,
   "id": "ffc1a7d8",
   "metadata": {},
   "outputs": [],
   "source": []
  },
  {
   "cell_type": "code",
   "execution_count": null,
   "id": "bc1a521e",
   "metadata": {},
   "outputs": [],
   "source": []
  },
  {
   "cell_type": "code",
   "execution_count": null,
   "id": "a49f1934",
   "metadata": {},
   "outputs": [],
   "source": []
  },
  {
   "cell_type": "code",
   "execution_count": null,
   "id": "27b0a35c",
   "metadata": {},
   "outputs": [],
   "source": []
  }
 ],
 "metadata": {
  "kernelspec": {
   "display_name": "Python 3 (ipykernel)",
   "language": "python",
   "name": "python3"
  },
  "language_info": {
   "codemirror_mode": {
    "name": "ipython",
    "version": 3
   },
   "file_extension": ".py",
   "mimetype": "text/x-python",
   "name": "python",
   "nbconvert_exporter": "python",
   "pygments_lexer": "ipython3",
   "version": "3.8.12"
  }
 },
 "nbformat": 4,
 "nbformat_minor": 5
}
